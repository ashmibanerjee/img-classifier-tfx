{
 "cells": [
  {
   "cell_type": "code",
   "execution_count": 1,
   "id": "2cf23dfa-6b7f-41ce-b753-d68d1bfb5542",
   "metadata": {
    "slideshow": {
     "slide_type": "skip"
    },
    "tags": [],
    "pycharm": {
     "name": "#%%\n"
    }
   },
   "outputs": [],
   "source": [
    "import json\n",
    "import time\n",
    "import os\n",
    "import glob\n",
    "import requests"
   ]
  },
  {
   "cell_type": "code",
   "execution_count": 2,
   "id": "3da22e63",
   "metadata": {
    "slideshow": {
     "slide_type": "skip"
    },
    "pycharm": {
     "name": "#%%\n"
    }
   },
   "outputs": [],
   "source": [
    "os.chdir(\"../../\")"
   ]
  },
  {
   "cell_type": "code",
   "execution_count": 3,
   "id": "8024cc56-48eb-4d6b-9826-a4b5bba5c1b4",
   "metadata": {
    "slideshow": {
     "slide_type": "skip"
    },
    "tags": [],
    "pycharm": {
     "name": "#%%\n"
    }
   },
   "outputs": [],
   "source": [
    "from src.utils.test_images import image_links\n",
    "IMAGE_LINKS = image_links"
   ]
  },
  {
   "cell_type": "markdown",
   "id": "eca3a1e3-b8e2-407b-9621-e738567d1376",
   "metadata": {
    "slideshow": {
     "slide_type": "slide"
    },
    "tags": [],
    "pycharm": {
     "name": "#%% md\n"
    }
   },
   "source": [
    "## Step 2:  Load Pre-trained Model from TensorFlow Hub"
   ]
  },
  {
   "cell_type": "code",
   "execution_count": 4,
   "id": "537e5d1a-4e22-4926-8d57-7e99f20dc123",
   "metadata": {
    "slideshow": {
     "slide_type": "subslide"
    },
    "tags": [],
    "pycharm": {
     "name": "#%%\n"
    }
   },
   "outputs": [],
   "source": [
    "import tensorflow as tf\n",
    "import tensorflow_hub as hub"
   ]
  },
  {
   "cell_type": "code",
   "execution_count": 5,
   "id": "ed0e8574",
   "metadata": {
    "pycharm": {
     "name": "#%%\n"
    }
   },
   "outputs": [],
   "source": [
    "IMAGE_SHAPE = (224, 224)"
   ]
  },
  {
   "cell_type": "code",
   "execution_count": 6,
   "id": "ed1d4c61-badb-4daa-b126-3be507cc5478",
   "metadata": {
    "slideshow": {
     "slide_type": "subslide"
    },
    "tags": [],
    "pycharm": {
     "name": "#%%\n"
    }
   },
   "outputs": [],
   "source": [
    "def load_model():\n",
    "    mobilenet_v2 = \"https://tfhub.dev/google/tf2-preview/mobilenet_v2/classification/4\"\n",
    "    classifier_model = mobilenet_v2\n",
    "\n",
    "    classifier = tf.keras.Sequential([\n",
    "        hub.KerasLayer(classifier_model, input_shape=IMAGE_SHAPE + (3,))\n",
    "    ])\n",
    "    print(\"Model loaded\")\n",
    "    return classifier"
   ]
  },
  {
   "cell_type": "markdown",
   "id": "5183bc3c-2e02-4559-977e-511aa5d6aefc",
   "metadata": {
    "slideshow": {
     "slide_type": "slide"
    },
    "pycharm": {
     "name": "#%% md\n"
    }
   },
   "source": [
    "## Step 3: Save the loaded Model"
   ]
  },
  {
   "cell_type": "code",
   "execution_count": 7,
   "id": "6da29dfe-25d2-4280-9b71-d0599f99c1cd",
   "metadata": {
    "slideshow": {
     "slide_type": "subslide"
    },
    "pycharm": {
     "name": "#%%\n"
    }
   },
   "outputs": [],
   "source": [
    "def save_model():\n",
    "    model = load_model()\n",
    "    ts = int(time.time())\n",
    "  \n",
    "    base_file_path = os.getcwd() + \"/img-classifier-tfx/src/models/\"\n",
    "    print(base_file_path)\n",
    "\n",
    "    file_path = base_file_path + str(ts)\n",
    "    model.save(filepath=file_path, save_format='tf')\n",
    "    print(f\"Model Saved under {file_path}\")\n"
   ]
  },
  {
   "cell_type": "code",
   "execution_count": 8,
   "id": "02e8aef4-a16e-47ff-8f3f-72514e1bbc59",
   "metadata": {
    "slideshow": {
     "slide_type": "skip"
    },
    "pycharm": {
     "name": "#%%\n"
    }
   },
   "outputs": [],
   "source": [
    "from src.utils.test_images import image_links\n",
    "from src.utils.utilities import is_dir_exists, is_directory_empty"
   ]
  },
  {
   "cell_type": "code",
   "execution_count": 9,
   "id": "e97ede3f-0508-4cf9-949d-625c78f775ed",
   "metadata": {
    "slideshow": {
     "slide_type": "skip"
    },
    "pycharm": {
     "name": "#%%\n"
    }
   },
   "outputs": [
    {
     "data": {
      "text/plain": [
       "'/Users/ashmi/Scripts/open-source/img-classifier-tfx/src/models/'"
      ]
     },
     "execution_count": 9,
     "metadata": {},
     "output_type": "execute_result"
    }
   ],
   "source": [
    "MODEL_LOCATION = os.getcwd() + \"/img-classifier-tfx/src/models/\"\n",
    "MODEL_LOCATION"
   ]
  },
  {
   "cell_type": "code",
   "execution_count": 10,
   "id": "8107cc39-e512-4e1a-8a4a-45e88ccae90e",
   "metadata": {
    "slideshow": {
     "slide_type": "skip"
    },
    "pycharm": {
     "name": "#%%\n"
    }
   },
   "outputs": [
    {
     "name": "stdout",
     "output_type": "stream",
     "text": [
      "Model exists\n"
     ]
    }
   ],
   "source": [
    "if not is_dir_exists(MODEL_LOCATION):\n",
    "    # Create a new directory because it does not exist\n",
    "    os.makedirs(MODEL_LOCATION)\n",
    "if is_directory_empty(MODEL_LOCATION):\n",
    "    # Load and save the model when pre-loaded model does not exist\n",
    "    save_model()\n",
    "else:\n",
    "    print(\"Model exists\")\n"
   ]
  },
  {
   "cell_type": "markdown",
   "id": "7d8114b5-0432-4f3a-a639-f4493f9065eb",
   "metadata": {
    "slideshow": {
     "slide_type": "slide"
    },
    "pycharm": {
     "name": "#%% md\n"
    }
   },
   "source": [
    "## Step 4: Serve TF Model using TF Serving"
   ]
  },
  {
   "cell_type": "code",
   "execution_count": 11,
   "id": "39d4befd-75c7-4314-ab86-95e214ac4081",
   "metadata": {
    "slideshow": {
     "slide_type": "skip"
    },
    "pycharm": {
     "name": "#%%\n"
    }
   },
   "outputs": [],
   "source": [
    "from src.pred.tf_pred import preprocess_image, decode_predictions\n",
    "from src.app.tf_serve import get_model_name"
   ]
  },
  {
   "cell_type": "code",
   "execution_count": 12,
   "id": "e2d27793-3347-4b1c-835a-c72a49c652d4",
   "metadata": {
    "slideshow": {
     "slide_type": "subslide"
    },
    "pycharm": {
     "name": "#%%\n"
    }
   },
   "outputs": [
    {
     "data": {
      "text/plain": [
       "'http://localhost:9001/v1/models/1661517839:predict'"
      ]
     },
     "execution_count": 12,
     "metadata": {},
     "output_type": "execute_result"
    }
   ],
   "source": [
    "model_name = get_model_name(MODEL_LOCATION)\n",
    "# URL at which the model is being served\n",
    "URL = f'http://localhost:9001/v1/models/{model_name}:predict'\n",
    "URL"
   ]
  },
  {
   "cell_type": "code",
   "execution_count": 13,
   "id": "4f507e05-a30f-4ad8-be66-ea4ea68a9cd9",
   "metadata": {
    "slideshow": {
     "slide_type": "subslide"
    },
    "pycharm": {
     "name": "#%%\n"
    }
   },
   "outputs": [],
   "source": [
    "\n",
    "def serve_rest(img_url):\n",
    "    img = preprocess_image(img_url)\n",
    "    print(\"Img preprocessing done!\")\n",
    "    \n",
    "    data = json.dumps({\"signature_name\": \"serving_default\", \"instances\": img.tolist()})\n",
    "    headers = {\"content-type\": \"application/json\"}\n",
    "    \n",
    "    json_response = requests.post(URL, data=data, headers=headers)\n",
    "    print(\"json response received\")\n",
    "    \n",
    "    predictions = json.loads(json_response.text)['predictions']\n",
    "    \n",
    "    results = decode_predictions(predictions)\n",
    "    print(\"predictions decoded\")\n",
    "    \n",
    "    return results\n"
   ]
  },
  {
   "cell_type": "markdown",
   "id": "6983b543",
   "metadata": {
    "slideshow": {
     "slide_type": "subslide"
    },
    "pycharm": {
     "name": "#%% md\n"
    }
   },
   "source": [
    "## Step 5: Run TF Serving\n"
   ]
  },
  {
   "cell_type": "markdown",
   "id": "20d66d20",
   "metadata": {
    "slideshow": {
     "slide_type": "subslide"
    },
    "pycharm": {
     "name": "#%% md\n"
    }
   },
   "source": [
    "![alt text](images/run_tf_server/img_10.png \"Run TF Serving Step-10\")"
   ]
  },
  {
   "cell_type": "markdown",
   "id": "53285ba9",
   "metadata": {
    "slideshow": {
     "slide_type": "slide"
    },
    "pycharm": {
     "name": "#%% md\n"
    }
   },
   "source": [
    "## Predict Results"
   ]
  },
  {
   "cell_type": "code",
   "execution_count": 14,
   "id": "ef6875f3-27ae-434a-a7d9-06768df5a446",
   "metadata": {
    "slideshow": {
     "slide_type": "subslide"
    },
    "pycharm": {
     "name": "#%%\n"
    }
   },
   "outputs": [
    {
     "name": "stdout",
     "output_type": "stream",
     "text": [
      "Image Link: https://github.com/pytorch/hub/raw/master/images/dog.jpg\n",
      "Img preprocessing done!\n",
      "json response received\n",
      "predictions decoded\n",
      "{'predicted_label': 'Samoyed', 'probability': 0.6407578587532043}\n",
      "\n",
      "Image Link: https://upload.wikimedia.org/wikipedia/commons/thumb/3/3a/Cat03.jpg/1200px-Cat03.jpg\n"
     ]
    },
    {
     "name": "stderr",
     "output_type": "stream",
     "text": [
      "2022-08-29 17:28:59.951239: I tensorflow/core/platform/cpu_feature_guard.cc:193] This TensorFlow binary is optimized with oneAPI Deep Neural Network Library (oneDNN) to use the following CPU instructions in performance-critical operations:  AVX2 FMA\n",
      "To enable them in other operations, rebuild TensorFlow with the appropriate compiler flags.\n"
     ]
    },
    {
     "name": "stdout",
     "output_type": "stream",
     "text": [
      "Img preprocessing done!\n",
      "json response received\n",
      "predictions decoded\n",
      "{'predicted_label': 'tiger cat', 'probability': 0.609558641910553}\n",
      "\n",
      "Image Link: https://media.istockphoto.com/photos/hen-picture-id831791190?k=20&m=831791190&s=170667a&w=0&h=pT2buEaMcxE5Wm4hQz-pXl0Zv-0DdpSMwpDzVcpcKyo=\n",
      "Img preprocessing done!\n",
      "json response received\n",
      "predictions decoded\n",
      "{'predicted_label': 'hen', 'probability': 0.9590937495231628}\n",
      "\n"
     ]
    }
   ],
   "source": [
    "if __name__ == \"__main__\":\n",
    "    \n",
    "    try:\n",
    "        for IMAGE_LINK in IMAGE_LINKS:\n",
    "            image_url = IMAGE_LINK[\"url\"]\n",
    "            print(f\"Image Link: {image_url}\")\n",
    "            res = serve_rest(image_url)\n",
    "            print(res)\n",
    "            print()\n",
    "    except Exception as e:\n",
    "        print(e)\n",
    "        print(\"Server not running\")\n"
   ]
  },
  {
   "cell_type": "code",
   "execution_count": null,
   "id": "89af2892-5ff0-456c-afbe-316a0e51a841",
   "metadata": {
    "pycharm": {
     "name": "#%%\n"
    }
   },
   "outputs": [],
   "source": []
  }
 ],
 "metadata": {
  "kernelspec": {
   "display_name": "Python 3 (ipykernel)",
   "language": "python",
   "name": "python3"
  },
  "language_info": {
   "codemirror_mode": {
    "name": "ipython",
    "version": 3
   },
   "file_extension": ".py",
   "mimetype": "text/x-python",
   "name": "python",
   "nbconvert_exporter": "python",
   "pygments_lexer": "ipython3",
   "version": "3.9.13"
  }
 },
 "nbformat": 4,
 "nbformat_minor": 5
}